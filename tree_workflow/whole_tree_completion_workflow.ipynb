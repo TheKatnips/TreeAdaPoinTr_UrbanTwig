{
 "cells": [
  {
   "cell_type": "markdown",
   "id": "d7ecec78",
   "metadata": {},
   "source": [
    "Apply point cloud completion (based on PoinTr) to a xyz cloud of any size. Most suitable for single trees."
   ]
  },
  {
   "cell_type": "code",
   "execution_count": 2,
   "id": "903e60c4",
   "metadata": {},
   "outputs": [],
   "source": [
    "import numpy as np\n",
    "import os\n",
    "import glob\n",
    "#import open3d as o3d\n",
    "import tree2cubes\n"
   ]
  },
  {
   "cell_type": "markdown",
   "id": "9d294508",
   "metadata": {},
   "source": [
    "### Load point cloud"
   ]
  },
  {
   "cell_type": "code",
   "execution_count": null,
   "id": "caeb2a6c",
   "metadata": {},
   "outputs": [],
   "source": [
    "# path to incomplete point cloud\n",
    "infile = \"path/to/incomplete/pointcloud\""
   ]
  },
  {
   "cell_type": "code",
   "execution_count": null,
   "id": "ce4d23eb",
   "metadata": {},
   "outputs": [],
   "source": [
    "# load incomplete pointcloud\n",
    "point_cloud = np.loadtxt(infile, skiprows=1, delimiter=\" \") # delimiter=\",\"\n",
    "\n",
    "# load .ply file and convert to numpy array\n",
    "# ply_cloud = o3d.io.read_point_cloud(item)\n",
    "# point_cloud = np.asarray(ply_cloud.points)"
   ]
  },
  {
   "cell_type": "markdown",
   "id": "2bb78a4c",
   "metadata": {},
   "source": [
    "### Cut into samples\n",
    "\n",
    "PoinTr only allows input point clouds of a limited size. The treePoinTr models were trained on point cloud samples of 1m^3  containing between 2730 and 8192 points.\n",
    "To apply completion on entire trees or even plots, larger point clouds need to be cut into cubes (voxels) to perform inference.\n",
    "We use the function cut_point_cloud() to voxelize the point cloud four times with spatially shifted grids and specifyable voxel sizes. "
   ]
  },
  {
   "cell_type": "code",
   "execution_count": null,
   "id": "d25853d4",
   "metadata": {},
   "outputs": [],
   "source": [
    "# Cut the point cloud into cubes and save as .txt files. Choose 4 cube sizes approx. between 0.6 and 1.8 m\n",
    "outpath = \"path/to/cubes/\"\n",
    "tree2cubes.cut_point_cloud(point_cloud, outpath, size1=1, size2=1, size3=1.25, size4=1.8)"
   ]
  },
  {
   "cell_type": "markdown",
   "id": "d4a3b692",
   "metadata": {},
   "source": [
    "Optional data augmentation step:\n",
    "make addtional versions of the cubes where x and z are switched. \n",
    "(inference results are sometimes rotation dependent)"
   ]
  },
  {
   "cell_type": "code",
   "execution_count": null,
   "id": "1172ca0f",
   "metadata": {},
   "outputs": [],
   "source": [
    "# make versions of the cubes where x and z are switched\n",
    "path=\"path/to/cubes/\"\n",
    "for files in glob.glob(path+\"*.txt\"): \n",
    "    data = np.loadtxt(files)\n",
    "    filename = os.path.basename(files)\n",
    "    # Swap the first and third columns\n",
    "    flipfile = np.column_stack((data[:, 2], data[:, 1], data[:, 0]))\n",
    "    np.savetxt(path+filename+\"_flip.txt\", flipfile)"
   ]
  },
  {
   "cell_type": "markdown",
   "id": "437bdf45",
   "metadata": {},
   "source": [
    "### Inference\n",
    "\n",
    "Inference the samples with a pretrained model, following the instructions on https://github.com/yuxumin/PoinTr\n",
    "\n",
    "For example, inference all samples under cubes/ and save the results under inference_result/, using the model real_ckpt-best.pth:\n",
    "\n",
    "\n",
    "python tools/inference.py \\\n",
    "cfgs/real_models/PoinTr.yaml ckpts/real_ckpt-best.pth \\\n",
    "--pc_root cubes/ \\ \n",
    "--save_vis_img  \\\n",
    "--out_pc_root inference_result/ \\\n"
   ]
  },
  {
   "cell_type": "markdown",
   "id": "acc7ba16",
   "metadata": {},
   "source": [
    "### Convert and merge predictions"
   ]
  },
  {
   "cell_type": "code",
   "execution_count": null,
   "id": "84e7ef6d",
   "metadata": {},
   "outputs": [],
   "source": [
    "# convert all .npy files of predictions into .xyz (or .ply)\n",
    "pred_path=\"/inference_result\"\n",
    "dirs = os.listdir(path=pred_path)\n",
    "full_pred = np.empty((2, 3))\n",
    "for dirs in dirs:\n",
    "    a = np.load(pred_path+\"/\"+dirs+\"/\"+\"fine.npy\")\n",
    "    np.savetxt(pred_path+\"/\"+dirs+\"_pred.xyz\", a)\n",
    "    # cloud = o3d.geometry.PointCloud()\n",
    "    # cloud.points = o3d.utility.Vector3dVector(a)\n",
    "    # o3d.io.write_point_cloud(pred_path+\"/\"+dirs+\"_pred.ply\", cloud)\n",
    "print(\"done\")"
   ]
  },
  {
   "cell_type": "code",
   "execution_count": null,
   "id": "61f7d056",
   "metadata": {},
   "outputs": [],
   "source": [
    "# reverse the switch of x and z on predictions if necessary\n",
    "# and merge all predictions into one cloud  \n",
    "\n",
    "full_pred = np.empty((2, 3))\n",
    "pred1 = np.empty((2, 3))\n",
    "predflip = np.empty((2, 3))\n",
    "\n",
    "\n",
    "for files in glob.glob(pred_path+\"*.xyz\"): \n",
    "    data = np.loadtxt(files)\n",
    "    filename = os.path.basename(files)\n",
    "    newfile = np.column_stack((data[:, 2], data[:, 1], data[:, 0]))\n",
    "    # Swap the first and third columns\n",
    "    if \"flip\" in filename:\n",
    "        #print(\"found flip\")\n",
    "        predflip = np.concatenate((predflip, newfile), 0)   \n",
    "    else:\n",
    "        newfile = data\n",
    "        pred1 = np.concatenate((pred1, newfile), 0)\n",
    "   \n",
    "\n",
    "np.savetxt(pred_path+\"/treename_completion.xyz\", pred1)\n",
    "np.savetxt(pred_path+\"/treename_completion_withflips.xyz\", predflip)\n",
    "print(\"done\")"
   ]
  },
  {
   "cell_type": "markdown",
   "id": "13aae4e8",
   "metadata": {},
   "source": [
    "### Post-processing\n",
    "\n",
    "Ideally, the completed point clouds are now filtered in CloudCompare, using e.g. SOR filter and Gemetric features (Surface density)."
   ]
  }
 ],
 "metadata": {
  "kernelspec": {
   "display_name": "env_pointr",
   "language": "python",
   "name": "python3"
  },
  "language_info": {
   "codemirror_mode": {
    "name": "ipython",
    "version": 3
   },
   "file_extension": ".py",
   "mimetype": "text/x-python",
   "name": "python",
   "nbconvert_exporter": "python",
   "pygments_lexer": "ipython3",
   "version": "3.10.16"
  }
 },
 "nbformat": 4,
 "nbformat_minor": 5
}
